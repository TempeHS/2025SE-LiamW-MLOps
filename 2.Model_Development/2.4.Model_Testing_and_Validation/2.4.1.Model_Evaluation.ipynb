{
 "cells": [
  {
   "cell_type": "markdown",
   "metadata": {},
   "source": [
    "[Home](../../README.md)\n",
    "\n",
    "### Model Evaluation\n",
    "\n",
    "This is a demonstration of evaluating a model."
   ]
  },
  {
   "cell_type": "markdown",
   "metadata": {},
   "source": [
    "#### Step 1\n",
    "\n",
    "Load the required dependencies.\n"
   ]
  },
  {
   "cell_type": "code",
   "execution_count": 7,
   "metadata": {},
   "outputs": [],
   "source": [
    "# Import frameworks\n",
    "import numpy as np\n",
    "import pandas as pd\n",
    "import matplotlib.pyplot as plt\n",
    "plt.style.use('../../style_Matplotlib_charts.mplstyle')\n",
    "from sklearn.linear_model import LinearRegression\n",
    "import pickle"
   ]
  },
  {
   "cell_type": "markdown",
   "metadata": {},
   "source": [
    "####  Step 2\n",
    "\n",
    "Load the model for testing"
   ]
  },
  {
   "cell_type": "code",
   "execution_count": 26,
   "metadata": {},
   "outputs": [],
   "source": [
    "filename = 'my_saved_model_v1.sav'\n",
    "model_A = pickle.load(open(filename, 'rb'))\n"
   ]
  },
  {
   "cell_type": "markdown",
   "metadata": {},
   "source": [
    "(Optional) Load a second model if you want to do comparative testing"
   ]
  },
  {
   "cell_type": "code",
   "execution_count": null,
   "metadata": {},
   "outputs": [],
   "source": [
    "filename = 'my_saved_model_v2.sav'\n",
    "model_B = pickle.load(open(filename, 'rb'))"
   ]
  },
  {
   "cell_type": "markdown",
   "metadata": {},
   "source": [
    "####  Step 3\n",
    "Open and parse the test data CSV file and store the data as variable array data objects."
   ]
  },
  {
   "cell_type": "code",
   "execution_count": 27,
   "metadata": {},
   "outputs": [],
   "source": [
    "x_col = 'BMI'\n",
    "testing_data = pd.read_csv('2.4.1.testing_data.csv')\n",
    "x_test = np.array(testing_data[x_col]).reshape(-1,1)\n",
    "y_test = np.array(testing_data['Target'])"
   ]
  },
  {
   "cell_type": "markdown",
   "metadata": {},
   "source": [
    "#### Step 5\n",
    "\n",
    "Plot the test data features, targets and linear regression model to visually evaluate the model."
   ]
  },
  {
   "cell_type": "code",
   "execution_count": 28,
   "metadata": {},
   "outputs": [
    {
     "data": {
      "image/png": "[encoded data removed]",
      "text/plain": [
       "<Figure size 640x480 with 1 Axes>"
      ]
     },
     "metadata": {},
     "output_type": "display_data"
    }
   ],
   "source": [
    "y_pred = model_A.predict(x_test)\n",
    "plt.scatter(x_test, y_pred)\n",
    "plt.scatter(x_test, y_test, marker='x', c='r')\n",
    "plt.title(\"NESA Course Specifications Data\")\n",
    "plt.ylabel(f'Testing {x_col}')\n",
    "plt.xlabel(f'Testing Target')\n",
    "plt.show()"
   ]
  },
  {
   "cell_type": "markdown",
   "metadata": {},
   "source": [
    "#### Step 6\n",
    "\n",
    "Use the 'score' method of the `LinearRegression` class to return a score based evaluation of the models accuracy or performance."
   ]
  },
  {
   "cell_type": "code",
   "execution_count": 29,
   "metadata": {},
   "outputs": [
    {
     "name": "stdout",
     "output_type": "stream",
     "text": [
      "Training data score: 0.2254411700186304\n"
     ]
    }
   ],
   "source": [
    "test_score = model_A.score(x_test, y_test)\n",
    "print(f'Training data score: {test_score}')"
   ]
  },
  {
   "cell_type": "markdown",
   "metadata": {},
   "source": [
    "#### Step 7\n",
    "\n",
    "Manually calculate and evaluate the 'loss' and 'cost' of the model using the test data."
   ]
  },
  {
   "cell_type": "code",
   "execution_count": 30,
   "metadata": {},
   "outputs": [
    {
     "name": "stdout",
     "output_type": "stream",
     "text": [
      "         DoB    DoT  Predicted result    Loss\n",
      "0   0.396875   73.0        150.245710  -77.25\n",
      "1   0.406250  109.0        152.749564  -43.75\n",
      "2   0.287500  140.0        121.034073   18.97\n",
      "3   0.350000  292.0        137.726437  154.27\n",
      "4   0.218750  158.0        102.672472   55.33\n",
      "5   0.550000  272.0        191.142002   80.86\n",
      "6   0.365625  182.0        141.899528   40.10\n",
      "7   0.309375  152.0        126.876400   25.12\n",
      "8   0.312500   98.0        127.711018  -29.71\n",
      "9   0.462500  283.0        167.772692  115.23\n",
      "10  0.237500   75.0        107.680181  -32.68\n",
      "11  0.140625   90.0         81.807017    8.19\n",
      "12  0.518750  175.0        182.795820   -7.80\n",
      "13  0.215625   86.0        101.837854  -15.84\n",
      "14  0.478125  296.0        171.945783  124.05\n",
      "15  0.465625  225.0        168.607310   56.39\n",
      "16  0.475000  172.0        171.111165    0.89\n",
      "17  0.446875  281.0        163.599601  117.40\n",
      "18  0.390625  258.0        148.576473  109.42\n",
      "19  0.400000   48.0        151.080328 -103.08\n",
      "20  0.206250   53.0         99.333999  -46.33\n",
      "21  0.359375   59.0        140.230291  -81.23\n",
      "22  0.240625   87.0        108.514800  -21.51\n",
      "23  0.503125  155.0        178.622729  -23.62\n",
      "24  0.256250   90.0        112.687891  -22.69\n",
      "25  0.562500  215.0        194.480474   20.52\n",
      "26  0.328125  148.0        131.884109   16.12\n",
      "27  0.203125   37.0         98.499381  -61.50\n",
      "28  0.253125  178.0        111.853272   66.15\n",
      "29  0.503125  147.0        178.622729  -31.62\n",
      "30  0.328125   97.0        131.884109  -34.88\n",
      "31  0.196875   96.0         96.830145   -0.83\n",
      "32  0.468750  302.0        169.441928  132.56\n",
      "33  0.150000   85.0         84.310872    0.69\n",
      "34  0.484375  270.0        173.615019   96.38\n",
      "35  0.346875  216.0        136.891818   79.11\n",
      "36  0.256250   93.0        112.687891  -19.69\n",
      "37  0.484375  198.0        173.615019   24.38\n",
      "38  0.193750   79.0         95.995526  -17.00\n",
      "39  0.200000  170.0         97.664763   72.34\n",
      "40  0.440625  273.0        161.930364  111.07\n",
      "41  0.587500  220.0        201.157420   18.84\n",
      "42  0.643750  279.0        216.180548   62.82\n",
      "43  0.437500  173.0        161.095746   11.90\n",
      "44  0.418750  276.0        156.088037  119.91\n",
      "45  0.371875  230.0        143.568764   86.43\n",
      "46  0.690625  270.0        228.699821   41.30\n",
      "47  0.275000   40.0        117.695600  -77.70\n",
      "48  0.400000   59.0        151.080328  -92.08\n",
      "49  0.559375   91.0        193.645856 -102.65\n",
      "50  0.318750   92.0        129.380255  -37.38\n",
      "51  0.196875  214.0         96.830145  117.17\n",
      "52  0.493750   90.0        176.118874  -86.12\n",
      "53  0.362500   31.0        141.064909 -110.06\n",
      "54  0.325000  281.0        131.049491  149.95\n",
      "55  0.506250   52.0        179.457347 -127.46\n",
      "56  0.287500  190.0        121.034073   68.97\n",
      "57  0.184375   63.0         93.491672  -30.49\n",
      "58  0.203125   65.0         98.499381  -33.50\n",
      "The cost or average loss of this model is 14.142033898305083\n"
     ]
    }
   ],
   "source": [
    "table = pd.DataFrame({\n",
    "    testing_data.columns[0]: x_test.flatten(),  # Flatten x for easy display\n",
    "    testing_data.columns[1]: y_test,\n",
    "    'Predicted result':model_A.predict(x_test),\n",
    "    'Loss' : y_test - model_A.predict(x_test).round(2)\n",
    "})\n",
    "print(table)\n",
    "cost = table['Loss'].sum() / table.shape[0]\n",
    "print(f\"The cost or average loss of this model is {cost}\")"
   ]
  },
  {
   "cell_type": "markdown",
   "metadata": {},
   "source": [
    "You may want to do some manual predictions to understand your model."
   ]
  },
  {
   "cell_type": "code",
   "execution_count": 31,
   "metadata": {},
   "outputs": [
    {
     "name": "stdout",
     "output_type": "stream",
     "text": [
      "[70.95698039]\n",
      "[311.32702279]\n"
     ]
    }
   ],
   "source": [
    "print(model_A.predict([[0.1]]))\n",
    "print(model_A.predict([[1]]))"
   ]
  },
  {
   "cell_type": "markdown",
   "metadata": {},
   "source": [
    "#### Step 8\n",
    "\n",
    "Evaluate the X axis intercept and gradient or coefficient of your model by using the getter methods to return the intercept and coefficient from my_model() object."
   ]
  },
  {
   "cell_type": "code",
   "execution_count": 32,
   "metadata": {},
   "outputs": [
    {
     "name": "stdout",
     "output_type": "stream",
     "text": [
      "X Axis intercept: 44.24919790499317\n",
      "Coefficient: [267.07782489]\n"
     ]
    }
   ],
   "source": [
    "print(f'X Axis intercept: {model_A.intercept_}')\n",
    "print(f'Coefficient: {model_A.coef_}')"
   ]
  },
  {
   "cell_type": "markdown",
   "metadata": {},
   "source": [
    "#### Step 9. Multiple Variable Linear Regression\n",
    "\n",
    "You should be able to understand the code snippets with less guidelines."
   ]
  },
  {
   "cell_type": "code",
   "execution_count": 57,
   "metadata": {},
   "outputs": [],
   "source": [
    "filename = 'my_saved_model_usingrisk.sav'\n",
    "model_C = pickle.load(open(filename, 'rb'))"
   ]
  },
  {
   "cell_type": "code",
   "execution_count": 44,
   "metadata": {},
   "outputs": [],
   "source": [
    "# Optional\n",
    "filename = 'my_saved_model_v2.sav'\n",
    "model_D = pickle.load(open(filename, 'rb'))"
   ]
  },
  {
   "cell_type": "code",
   "execution_count": 77,
   "metadata": {},
   "outputs": [],
   "source": [
    "mx_col = ['BMI','BGU','CombRisk']\n",
    "testing_data = pd.read_csv('2.4.1.testing_data.csv')\n",
    "mx_test = np.array(testing_data[mx_col])\n",
    "my_test = np.array(testing_data['Target'])"
   ]
  },
  {
   "cell_type": "code",
   "execution_count": 78,
   "metadata": {},
   "outputs": [
    {
     "data": {
      "image/png": "[encoded data removed]",
      "text/plain": [
       "<Figure size 1200x300 with 3 Axes>"
      ]
     },
     "metadata": {},
     "output_type": "display_data"
    }
   ],
   "source": [
    "my_pred = model_C.predict(mx_test)\n",
    "\n",
    "# plot predictions and targets vs original features    \n",
    "fig,ax=plt.subplots(1,len(mx_col),figsize=(12,3),sharey=True)\n",
    "for i in range(len(ax)):\n",
    "    ax[i].scatter(mx_test[:,i],my_test, label = 'target')\n",
    "    ax[i].set_xlabel(mx_col[i])\n",
    "    ax[i].scatter(mx_test[:,i],my_pred,color=\"orange\", label = 'predict')\n",
    "    ax[i].set_ylabel(\"Target\"); ax[i].legend();\n",
    "fig.suptitle(\"Diabetes Disease Progress\")\n",
    "plt.show()"
   ]
  },
  {
   "cell_type": "code",
   "execution_count": 79,
   "metadata": {},
   "outputs": [
    {
     "name": "stdout",
     "output_type": "stream",
     "text": [
      "Training data score: 0.2440844419476208\n"
     ]
    }
   ],
   "source": [
    "test_score = model_C.score(mx_test, my_test)\n",
    "print(f'Training data score: {test_score}')"
   ]
  },
  {
   "cell_type": "code",
   "execution_count": 38,
   "metadata": {},
   "outputs": [
    {
     "name": "stdout",
     "output_type": "stream",
     "text": [
      "[92.69246604]\n",
      "[285.3139138]\n"
     ]
    }
   ],
   "source": [
    "print(model_C.predict([[0.1,0.1,0.1]]))\n",
    "print(model_C.predict([[1,0.5,1]]))"
   ]
  },
  {
   "cell_type": "code",
   "execution_count": 39,
   "metadata": {},
   "outputs": [
    {
     "name": "stdout",
     "output_type": "stream",
     "text": [
      "    Risk%  FHRisk  CombRisk  Target  Predicted result    Cost\n",
      "0    0.54    0.15      0.23    73.0        167.622475  -94.62\n",
      "1    0.60    0.38      0.40   109.0        188.085039  -79.09\n",
      "2    0.11    0.62      0.22   140.0        104.087908   35.91\n",
      "3    0.36    0.38      0.30   292.0        145.622791  146.38\n",
      "4    0.28    0.15      0.18   158.0        125.098879   32.90\n",
      "5    0.52    0.38      0.37   272.0        174.129652   97.87\n",
      "6    0.44    0.15      0.22   182.0        151.817479   30.18\n",
      "7    0.30    0.38      0.26   152.0        134.113099   17.89\n",
      "8    0.33    0.15      0.20    98.0        133.895507  -35.90\n",
      "9    0.48    0.38      0.35   283.0        166.853915  116.15\n",
      "10   0.23    0.15      0.17    75.0        116.898338  -41.90\n",
      "11   0.12    0.62      0.22    90.0        105.608799  -15.61\n",
      "12   0.44    0.15      0.22   175.0        151.817479   23.18\n",
      "13   0.13    0.62      0.23    86.0        107.725777  -21.73\n",
      "14   0.67    0.62      0.62   296.0        213.101263   82.90\n",
      "15   0.58    0.62      0.55   225.0        195.240639   29.76\n",
      "16   0.33    0.38      0.29   172.0        140.464032   31.54\n",
      "17   0.48    0.62      0.48   281.0        175.859124  105.14\n",
      "18   0.25    0.62      0.32   258.0        131.341247  126.66\n",
      "19   0.35    0.15      0.20    48.0        136.937288  -88.94\n",
      "20   0.19    0.15      0.17    53.0        110.814774  -57.81\n",
      "21   0.25    0.62      0.32    59.0        131.341247  -72.34\n",
      "22   0.28    0.15      0.18    87.0        125.098879  -38.10\n",
      "23   0.58    0.15      0.24   155.0        174.302125  -19.30\n",
      "24   0.31    0.15      0.20    90.0        130.853725  -40.85\n",
      "25   0.51    0.38      0.36   215.0        172.012674   42.99\n",
      "26   0.38    0.15      0.21   148.0        142.096048    5.90\n",
      "27   0.17    0.38      0.21    37.0        111.361085  -74.36\n",
      "28   0.27    0.15      0.18   178.0        123.577988   54.42\n",
      "29   0.43    0.38      0.32   147.0        157.461201  -10.46\n",
      "30   0.34    0.15      0.20    97.0        135.416397  -38.42\n",
      "31   0.18    0.38      0.22    96.0        113.478062  -17.48\n",
      "32   0.22    0.62      0.30   302.0        125.586401  176.41\n",
      "33   0.07    0.62      0.18    85.0         95.619998  -10.62\n",
      "34   0.47    0.15      0.22   270.0        156.380152  113.62\n",
      "35   0.31    0.62      0.36   216.0        142.850939   73.15\n",
      "36   0.27    0.38      0.25    93.0        128.954340  -35.95\n",
      "37   0.51    0.38      0.36   198.0        172.012674   25.99\n",
      "38   0.19    0.62      0.28    79.0        119.831555  -40.83\n",
      "39   0.24    0.15      0.18   170.0        119.015315   50.98\n",
      "40   0.52    0.62      0.51   273.0        183.730947   89.27\n",
      "41   0.81    0.38      0.49   220.0        225.388527   -5.39\n",
      "42   0.53    0.38      0.37   279.0        175.650543  103.35\n",
      "43   0.58    0.62      0.55   173.0        195.240639  -22.24\n",
      "44   0.39    0.62      0.41   276.0        157.998499  118.00\n",
      "45   0.51    0.38      0.36   230.0        172.012674   57.99\n",
      "46   0.79    0.38      0.48   270.0        221.750659   48.25\n",
      "47   0.27    0.15      0.18    40.0        123.577988  -83.58\n",
      "48   0.44    0.38      0.33    59.0        159.578178 -100.58\n",
      "49   0.56    0.15      0.23    91.0        170.664257  -79.66\n",
      "50   0.35    0.62      0.39    92.0        150.722763  -58.72\n",
      "51   0.15    0.38      0.21   214.0        108.319303  105.68\n",
      "52   0.67    0.15      0.25    90.0        188.586230  -98.59\n",
      "53   0.36    0.38      0.30    31.0        145.622791 -114.62\n",
      "54   0.43    0.38      0.32   281.0        157.461201  123.54\n",
      "55   0.38    0.15      0.21    52.0        142.096048  -90.10\n",
      "56   0.31    0.62      0.36   190.0        142.850939   47.15\n",
      "57   0.16    0.38      0.21    63.0        109.840194  -46.84\n",
      "58   0.22    0.62      0.30    65.0        125.586401  -60.59\n"
     ]
    }
   ],
   "source": [
    "data = {col: mx_test[:, i] for i, col in enumerate(mx_col)}\n",
    "data['Target'] = my_test\n",
    "data['Predicted result'] = model_C.predict(mx_test)\n",
    "data['Cost'] = my_test - model_C.predict(mx_test).round(2)\n",
    "\n",
    "table = pd.DataFrame(data)\n",
    "print(table)"
   ]
  },
  {
   "cell_type": "code",
   "execution_count": 16,
   "metadata": {},
   "outputs": [
    {
     "name": "stdout",
     "output_type": "stream",
     "text": [
      "X Axis intercept: 15.933936780132797\n",
      "Coefficient: [230.12541062  83.70308029   7.15419969]\n"
     ]
    }
   ],
   "source": [
    "print(f'X Axis intercept: {model_C.intercept_}')\n",
    "print(f'Coefficient: {model_C.coef_}')"
   ]
  },
  {
   "cell_type": "markdown",
   "metadata": {},
   "source": [
    "#### Step 10\n",
    "\n",
    "When your model is ready for operations, move it to the [3.Operations\\3.1.Deploy_Model](\\3.Operations\\3.1.Deploy_Model) folder."
   ]
  }
 ],
 "metadata": {
  "kernelspec": {
   "display_name": "Python 3",
   "language": "python",
   "name": "python3"
  },
  "language_info": {
   "codemirror_mode": {
    "name": "ipython",
    "version": 3
   },
   "file_extension": ".py",
   "mimetype": "text/x-python",
   "name": "python",
   "nbconvert_exporter": "python",
   "pygments_lexer": "ipython3",
   "version": "3.12.1"
  }
 },
 "nbformat": 4,
 "nbformat_minor": 2
}
