{
 "cells": [
  {
   "cell_type": "markdown",
   "metadata": {},
   "source": [
    "[Home](../../README.md)\n",
    "\n",
    "### Model Evaluation\n",
    "\n",
    "This is a demonstration of evaluating a model."
   ]
  },
  {
   "cell_type": "markdown",
   "metadata": {},
   "source": [
    "#### Step 1\n",
    "\n",
    "Load the required dependencies.\n"
   ]
  },
  {
   "cell_type": "code",
   "execution_count": 1,
   "metadata": {},
   "outputs": [],
   "source": [
    "# Import frameworks\n",
    "import numpy as np\n",
    "import pandas as pd\n",
    "import matplotlib.pyplot as plt\n",
    "plt.style.use('../../style_Matplotlib_charts.mplstyle')\n",
    "from sklearn.linear_model import LinearRegression\n",
    "import pickle"
   ]
  },
  {
   "cell_type": "markdown",
   "metadata": {},
   "source": [
    "####  Step 2\n",
    "\n",
    "Load the model for testing"
   ]
  },
  {
   "cell_type": "code",
   "execution_count": 2,
   "metadata": {},
   "outputs": [],
   "source": [
    "filename = 'my_saved_model_v1.sav'\n",
    "model_A = pickle.load(open(filename, 'rb'))\n"
   ]
  },
  {
   "cell_type": "markdown",
   "metadata": {},
   "source": [
    "(Optional) Load a second model if you want to do comparative testing"
   ]
  },
  {
   "cell_type": "code",
   "execution_count": null,
   "metadata": {},
   "outputs": [],
   "source": [
    "filename = 'my_saved_model_v2.sav'\n",
    "model_B = pickle.load(open(filename, 'rb'))"
   ]
  },
  {
   "cell_type": "markdown",
   "metadata": {},
   "source": [
    "####  Step 3\n",
    "Open and parse the test data CSV file and store the data as variable array data objects."
   ]
  },
  {
   "cell_type": "code",
   "execution_count": 3,
   "metadata": {},
   "outputs": [],
   "source": [
    "x_col = 'BMI'\n",
    "testing_data = pd.read_csv('2.4.1.testing_data.csv')\n",
    "x_test = np.array(testing_data[x_col]).reshape(-1,1)\n",
    "y_test = np.array(testing_data['Target'])"
   ]
  },
  {
   "cell_type": "markdown",
   "metadata": {},
   "source": [
    "#### Step 5\n",
    "\n",
    "Plot the test data features, targets and linear regression model to visually evaluate the model."
   ]
  },
  {
   "cell_type": "code",
   "execution_count": 4,
   "metadata": {},
   "outputs": [
    {
     "data": {
      "image/png": "[encoded data removed]",
      "text/plain": [
       "<Figure size 640x480 with 1 Axes>"
      ]
     },
     "metadata": {},
     "output_type": "display_data"
    }
   ],
   "source": [
    "y_pred = model_A.predict(x_test)\n",
    "plt.scatter(x_test, y_pred)\n",
    "plt.scatter(x_test, y_test, marker='x', c='r')\n",
    "plt.title(\"NESA Course Specifications Data\")\n",
    "plt.ylabel(f'Testing {x_col}')\n",
    "plt.xlabel(f'Testing Target')\n",
    "plt.show()"
   ]
  },
  {
   "cell_type": "markdown",
   "metadata": {},
   "source": [
    "#### Step 6\n",
    "\n",
    "Use the 'score' method of the `LinearRegression` class to return a score based evaluation of the models accuracy or performance."
   ]
  },
  {
   "cell_type": "code",
   "execution_count": 5,
   "metadata": {},
   "outputs": [
    {
     "name": "stdout",
     "output_type": "stream",
     "text": [
      "Training data score: 0.2254411700186304\n"
     ]
    }
   ],
   "source": [
    "test_score = model_A.score(x_test, y_test)\n",
    "print(f'Training data score: {test_score}')"
   ]
  },
  {
   "cell_type": "markdown",
   "metadata": {},
   "source": [
    "#### Step 7\n",
    "\n",
    "Manually calculate and evaluate the 'loss' and 'cost' of the model using the test data."
   ]
  },
  {
   "cell_type": "code",
   "execution_count": 6,
   "metadata": {},
   "outputs": [
    {
     "name": "stdout",
     "output_type": "stream",
     "text": [
      "         DoB    DoT  Predicted result    Loss\n",
      "0   0.396875   73.0        150.245710  -77.25\n",
      "1   0.406250  109.0        152.749564  -43.75\n",
      "2   0.287500  140.0        121.034073   18.97\n",
      "3   0.350000  292.0        137.726437  154.27\n",
      "4   0.218750  158.0        102.672472   55.33\n",
      "5   0.550000  272.0        191.142002   80.86\n",
      "6   0.365625  182.0        141.899528   40.10\n",
      "7   0.309375  152.0        126.876400   25.12\n",
      "8   0.312500   98.0        127.711018  -29.71\n",
      "9   0.462500  283.0        167.772692  115.23\n",
      "10  0.237500   75.0        107.680181  -32.68\n",
      "11  0.140625   90.0         81.807017    8.19\n",
      "12  0.518750  175.0        182.795820   -7.80\n",
      "13  0.215625   86.0        101.837854  -15.84\n",
      "14  0.478125  296.0        171.945783  124.05\n",
      "15  0.465625  225.0        168.607310   56.39\n",
      "16  0.475000  172.0        171.111165    0.89\n",
      "17  0.446875  281.0        163.599601  117.40\n",
      "18  0.390625  258.0        148.576473  109.42\n",
      "19  0.400000   48.0        151.080328 -103.08\n",
      "20  0.206250   53.0         99.333999  -46.33\n",
      "21  0.359375   59.0        140.230291  -81.23\n",
      "22  0.240625   87.0        108.514800  -21.51\n",
      "23  0.503125  155.0        178.622729  -23.62\n",
      "24  0.256250   90.0        112.687891  -22.69\n",
      "25  0.562500  215.0        194.480474   20.52\n",
      "26  0.328125  148.0        131.884109   16.12\n",
      "27  0.203125   37.0         98.499381  -61.50\n",
      "28  0.253125  178.0        111.853272   66.15\n",
      "29  0.503125  147.0        178.622729  -31.62\n",
      "30  0.328125   97.0        131.884109  -34.88\n",
      "31  0.196875   96.0         96.830145   -0.83\n",
      "32  0.468750  302.0        169.441928  132.56\n",
      "33  0.150000   85.0         84.310872    0.69\n",
      "34  0.484375  270.0        173.615019   96.38\n",
      "35  0.346875  216.0        136.891818   79.11\n",
      "36  0.256250   93.0        112.687891  -19.69\n",
      "37  0.484375  198.0        173.615019   24.38\n",
      "38  0.193750   79.0         95.995526  -17.00\n",
      "39  0.200000  170.0         97.664763   72.34\n",
      "40  0.440625  273.0        161.930364  111.07\n",
      "41  0.587500  220.0        201.157420   18.84\n",
      "42  0.643750  279.0        216.180548   62.82\n",
      "43  0.437500  173.0        161.095746   11.90\n",
      "44  0.418750  276.0        156.088037  119.91\n",
      "45  0.371875  230.0        143.568764   86.43\n",
      "46  0.690625  270.0        228.699821   41.30\n",
      "47  0.275000   40.0        117.695600  -77.70\n",
      "48  0.400000   59.0        151.080328  -92.08\n",
      "49  0.559375   91.0        193.645856 -102.65\n",
      "50  0.318750   92.0        129.380255  -37.38\n",
      "51  0.196875  214.0         96.830145  117.17\n",
      "52  0.493750   90.0        176.118874  -86.12\n",
      "53  0.362500   31.0        141.064909 -110.06\n",
      "54  0.325000  281.0        131.049491  149.95\n",
      "55  0.506250   52.0        179.457347 -127.46\n",
      "56  0.287500  190.0        121.034073   68.97\n",
      "57  0.184375   63.0         93.491672  -30.49\n",
      "58  0.203125   65.0         98.499381  -33.50\n",
      "The cost or average loss of this model is 14.142033898305083\n"
     ]
    }
   ],
   "source": [
    "table = pd.DataFrame({\n",
    "    testing_data.columns[0]: x_test.flatten(),  # Flatten x for easy display\n",
    "    testing_data.columns[1]: y_test,\n",
    "    'Predicted result':model_A.predict(x_test),\n",
    "    'Loss' : y_test - model_A.predict(x_test).round(2)\n",
    "})\n",
    "print(table)\n",
    "cost = table['Loss'].sum() / table.shape[0]\n",
    "print(f\"The cost or average loss of this model is {cost}\")"
   ]
  },
  {
   "cell_type": "markdown",
   "metadata": {},
   "source": [
    "You may want to do some manual predictions to understand your model."
   ]
  },
  {
   "cell_type": "code",
   "execution_count": 7,
   "metadata": {},
   "outputs": [
    {
     "name": "stdout",
     "output_type": "stream",
     "text": [
      "[70.95698039]\n",
      "[311.32702279]\n"
     ]
    }
   ],
   "source": [
    "print(model_A.predict([[0.1]]))\n",
    "print(model_A.predict([[1]]))"
   ]
  },
  {
   "cell_type": "markdown",
   "metadata": {},
   "source": [
    "#### Step 8\n",
    "\n",
    "Evaluate the X axis intercept and gradient or coefficient of your model by using the getter methods to return the intercept and coefficient from my_model() object."
   ]
  },
  {
   "cell_type": "code",
   "execution_count": 8,
   "metadata": {},
   "outputs": [
    {
     "name": "stdout",
     "output_type": "stream",
     "text": [
      "X Axis intercept: 44.24919790499317\n",
      "Coefficient: [267.07782489]\n"
     ]
    }
   ],
   "source": [
    "print(f'X Axis intercept: {model_A.intercept_}')\n",
    "print(f'Coefficient: {model_A.coef_}')"
   ]
  },
  {
   "cell_type": "markdown",
   "metadata": {},
   "source": [
    "#### Step 9. Multiple Variable Linear Regression\n",
    "\n",
    "You should be able to understand the code snippets with less guidelines."
   ]
  },
  {
   "cell_type": "code",
   "execution_count": 9,
   "metadata": {},
   "outputs": [],
   "source": [
    "filename = 'my_saved_model_v2.sav'\n",
    "model_C = pickle.load(open(filename, 'rb'))"
   ]
  },
  {
   "cell_type": "code",
   "execution_count": 10,
   "metadata": {},
   "outputs": [],
   "source": [
    "# Optional\n",
    "filename = 'my_saved_model_v2.sav'\n",
    "model_D = pickle.load(open(filename, 'rb'))"
   ]
  },
  {
   "cell_type": "code",
   "execution_count": 11,
   "metadata": {},
   "outputs": [],
   "source": [
    "mx_col = ['BMI','BP','FDR']\n",
    "testing_data = pd.read_csv('2.4.1.testing_data.csv')\n",
    "mx_test = np.array(testing_data[mx_col])\n",
    "my_test = np.array(testing_data['Target'])"
   ]
  },
  {
   "cell_type": "code",
   "execution_count": 12,
   "metadata": {},
   "outputs": [
    {
     "data": {
      "image/png": "[encoded data removed]",
      "text/plain": [
       "<Figure size 1200x300 with 3 Axes>"
      ]
     },
     "metadata": {},
     "output_type": "display_data"
    }
   ],
   "source": [
    "my_pred = model_C.predict(mx_test)\n",
    "\n",
    "# plot predictions and targets vs original features    \n",
    "fig,ax=plt.subplots(1,len(mx_col),figsize=(12,3),sharey=True)\n",
    "for i in range(len(ax)):\n",
    "    ax[i].scatter(mx_test[:,i],my_test, label = 'target')\n",
    "    ax[i].set_xlabel(mx_col[i])\n",
    "    ax[i].scatter(mx_test[:,i],my_pred,color=\"orange\", label = 'predict')\n",
    "    ax[i].set_ylabel(\"Target\"); ax[i].legend();\n",
    "fig.suptitle(\"Diabetes Disease Progress\")\n",
    "plt.show()"
   ]
  },
  {
   "cell_type": "code",
   "execution_count": 13,
   "metadata": {},
   "outputs": [
    {
     "name": "stdout",
     "output_type": "stream",
     "text": [
      "Training data score: 0.3474103330252267\n"
     ]
    }
   ],
   "source": [
    "test_score = model_C.score(mx_test, my_test)\n",
    "print(f'Training data score: {test_score}')"
   ]
  },
  {
   "cell_type": "code",
   "execution_count": 14,
   "metadata": {},
   "outputs": [
    {
     "name": "stdout",
     "output_type": "stream",
     "text": [
      "[48.03220584]\n",
      "[295.06508724]\n"
     ]
    }
   ],
   "source": [
    "print(model_C.predict([[0.1,0.1,0.1]]))\n",
    "print(model_C.predict([[1,0.5,1]]))"
   ]
  },
  {
   "cell_type": "code",
   "execution_count": 15,
   "metadata": {},
   "outputs": [
    {
     "name": "stdout",
     "output_type": "stream",
     "text": [
      "         BMI        BP  FDR  Target  Predicted result    Cost\n",
      "0   0.396875  0.588235  0.0    73.0        156.502065  -83.50\n",
      "1   0.406250  0.552941  1.0   109.0        162.859464  -53.86\n",
      "2   0.287500  0.235294  2.0   140.0        116.098234   23.90\n",
      "3   0.350000  0.564706  1.0   292.0        150.899652  141.10\n",
      "4   0.218750  0.439176  0.0   158.0        103.034294   54.97\n",
      "5   0.550000  0.341176  1.0   272.0        178.214634   93.79\n",
      "6   0.365625  0.564706  0.0   182.0        147.341162   34.66\n",
      "7   0.309375  0.635294  1.0   152.0        147.459260    4.54\n",
      "8   0.312500  0.329412  0.0    98.0        115.420907  -17.42\n",
      "9   0.462500  0.682353  1.0   283.0        186.636182   96.36\n",
      "10  0.237500  0.376471  0.0    75.0        102.100470  -27.10\n",
      "11  0.140625  0.376471  2.0    90.0         94.115470   -4.12\n",
      "12  0.518750  0.776471  0.0   175.0        200.304474  -25.30\n",
      "13  0.215625  0.576471  2.0    86.0        128.115492  -42.12\n",
      "14  0.478125  0.811765  2.0   296.0        208.218254   87.78\n",
      "15  0.465625  0.380353  2.0   225.0        169.231193   55.77\n",
      "16  0.475000  0.211765  1.0   172.0        150.123065   21.88\n",
      "17  0.446875  0.541176  2.0   281.0        178.377767  102.62\n",
      "18  0.390625  0.364706  2.0   258.0        150.662080  107.34\n",
      "19  0.400000  0.800000  0.0    48.0        174.946565 -126.95\n",
      "20  0.206250  0.211765  0.0    53.0         81.122661  -28.12\n",
      "21  0.359375  0.447059  2.0    59.0        150.363856  -91.36\n",
      "22  0.240625  0.458824  0.0    87.0        109.712806  -22.71\n",
      "23  0.503125  0.729412  0.0   155.0        192.769796  -37.77\n",
      "24  0.256250  0.584353  0.0    90.0        123.815714  -33.82\n",
      "25  0.562500  0.647059  1.0   215.0        206.694497    8.31\n",
      "26  0.328125  0.447059  0.0   148.0        128.864038   19.14\n",
      "27  0.203125  0.294118  1.0    37.0         94.450914  -57.45\n",
      "28  0.253125  0.447059  0.0   178.0        111.604632   66.40\n",
      "29  0.503125  0.423529  1.0   147.0        174.320700  -27.32\n",
      "30  0.328125  0.282353  0.0    97.0        115.077648  -18.08\n",
      "31  0.196875  0.227412  1.0    96.0         87.429142    8.57\n",
      "32  0.468750  0.411765  2.0   302.0        172.579597  129.42\n",
      "33  0.150000  0.270588  2.0    85.0         87.410217   -2.41\n",
      "34  0.484375  0.894118  0.0   270.0        202.241334   67.76\n",
      "35  0.346875  0.917647  2.0   216.0        186.876973   29.12\n",
      "36  0.256250  0.270588  1.0    93.0        104.706842  -11.71\n",
      "37  0.484375  0.580353  1.0   198.0        183.132461   14.87\n",
      "38  0.193750  0.470588  2.0    79.0        114.218819  -35.22\n",
      "39  0.200000  0.588235  0.0   170.0        111.196125   58.80\n",
      "40  0.440625  0.658824  2.0   273.0        186.786904   86.21\n",
      "41  0.587500  0.596118  1.0   220.0        208.183698   11.82\n",
      "42  0.643750  0.380353  1.0   279.0        203.068082   75.93\n",
      "43  0.437500  0.541176  2.0   173.0        176.220341   -3.22\n",
      "44  0.418750  0.270588  2.0   276.0        149.256421  126.74\n",
      "45  0.371875  0.447059  1.0   230.0        146.086224   83.91\n",
      "46  0.690625  0.729412  1.0   270.0        243.072510   26.93\n",
      "47  0.275000  0.541176  0.0    40.0        124.516562  -84.52\n",
      "48  0.400000  0.376471  1.0    59.0        146.650049  -87.65\n",
      "49  0.559375  0.274471  0.0    91.0        167.634372  -76.63\n",
      "50  0.318750  0.223529  2.0    92.0        122.304911  -30.30\n",
      "51  0.196875  0.329412  1.0   214.0         95.966856  118.03\n",
      "52  0.493750  0.294118  0.0    90.0        154.176911  -64.18\n",
      "53  0.362500  0.247059  1.0    31.0        127.188182  -96.19\n",
      "54  0.325000  0.764706  1.0   281.0        161.887133  119.11\n",
      "55  0.506250  0.376471  0.0    52.0        163.946674 -111.95\n",
      "56  0.287500  0.654941  2.0   190.0        151.223986   38.78\n",
      "57  0.184375  0.247059  1.0    63.0         86.197094  -23.20\n",
      "58  0.203125  0.270588  2.0    65.0         99.635629  -34.64\n"
     ]
    }
   ],
   "source": [
    "data = {col: mx_test[:, i] for i, col in enumerate(mx_col)}\n",
    "data['Target'] = my_test\n",
    "data['Predicted result'] = model_C.predict(mx_test)\n",
    "data['Cost'] = my_test - model_C.predict(mx_test).round(2)\n",
    "\n",
    "table = pd.DataFrame(data)\n",
    "print(table)"
   ]
  },
  {
   "cell_type": "code",
   "execution_count": 16,
   "metadata": {},
   "outputs": [
    {
     "name": "stdout",
     "output_type": "stream",
     "text": [
      "X Axis intercept: 15.933936780132797\n",
      "Coefficient: [230.12541062  83.70308029   7.15419969]\n"
     ]
    }
   ],
   "source": [
    "print(f'X Axis intercept: {model_C.intercept_}')\n",
    "print(f'Coefficient: {model_C.coef_}')"
   ]
  },
  {
   "cell_type": "markdown",
   "metadata": {},
   "source": [
    "#### Step 10\n",
    "\n",
    "When your model is ready for operations, move it to the [3.Operations\\3.1.Deploy_Model](\\3.Operations\\3.1.Deploy_Model) folder."
   ]
  }
 ],
 "metadata": {
  "kernelspec": {
   "display_name": "Python 3",
   "language": "python",
   "name": "python3"
  },
  "language_info": {
   "codemirror_mode": {
    "name": "ipython",
    "version": 3
   },
   "file_extension": ".py",
   "mimetype": "text/x-python",
   "name": "python",
   "nbconvert_exporter": "python",
   "pygments_lexer": "ipython3",
   "version": "3.12.1"
  }
 },
 "nbformat": 4,
 "nbformat_minor": 2
}
